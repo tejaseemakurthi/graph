{
 "cells": [
  {
   "cell_type": "code",
   "execution_count": 6,
   "metadata": {},
   "outputs": [],
   "source": [
    "def graph(file,column=None,directory=None):\n",
    "    import os\n",
    "    import pandas as pd\n",
    "    import matplotlib.pyplot as plt\n",
    "    from pandas.plotting import scatter_matrix\n",
    "    if directory==None: # if we do not give any directory it will take default directory\n",
    "        directory=os.getcwd()\n",
    "    os.chdir(directory)    \n",
    "    if file.endswith('csv'):\n",
    "        file1=pd.read_csv(file)   #reading the file to a variable for different formats.\n",
    "    elif file.endswith('xlsx'):\n",
    "        file1=pd.read_excel(file)\n",
    "    print(\"Null values\\n\",file1.isnull().sum())   # printing the null values  \n",
    "    if column==None:\n",
    "        l=list(file1.dropna()) #it takes the all columns of given file as a list\n",
    "        print('Null values are dropped and graphs are plotted')\n",
    "    else:\n",
    "        l=column      #it takes columns from the user\n",
    "    z=[]             #  creating an empty list for saving categorical columns  \n",
    "    for i in l:\n",
    "        if file1[i].dtype=='O': #if datatype is object it wull draw a bar graph\n",
    "            z.append(i)         #  it append the column name to z if categorical\n",
    "            file1[i].value_counts().plot(kind='bar',figsize=(10,10),color='red',fontsize=13)\n",
    "            plt.savefig('%s.png'%i) # each graph will save as a png file with its name\n",
    "            plt.title(i)\n",
    "            plt.show()\n",
    "        elif len(file1[i].unique())>15:  # it divides the which have unique values greater than 15 as numerical column\n",
    "            file1.hist(i,by=None,grid=None,figsize=(10,10)) # if datatype is other than object it will draw histogram\n",
    "            plt.figure()\n",
    "            file1.boxplot(i)\n",
    "            plt.savefig('%s.png'%i)\n",
    "            plt.show()\n",
    "        else:                           # it divides the which have unique values less than 15 as categorical column column\n",
    "            z.append(i)                 #  it append the column name to z if categorical\n",
    "            file1[i].value_counts().plot(kind='bar',figsize=(10,10),color='red',fontsize=13) \n",
    "            plt.savefig('%s.png'%i) # each graph will save as a png file with its name\n",
    "            plt.title(i)\n",
    "            plt.show()\n",
    "    scatter_matrix(file1.drop(z,axis=1), alpha=0.5,figsize=(14,10),\n",
    "              diagonal='hist')  #Pairwise Scatterplot for which are numerical variables,so we are dropping categorical variables\n",
    "    plt.show()       \n",
    "            "
   ]
  }
 ],
 "metadata": {
  "kernelspec": {
   "display_name": "Python 3",
   "language": "python",
   "name": "python3"
  },
  "language_info": {
   "codemirror_mode": {
    "name": "ipython",
    "version": 3
   },
   "file_extension": ".py",
   "mimetype": "text/x-python",
   "name": "python",
   "nbconvert_exporter": "python",
   "pygments_lexer": "ipython3",
   "version": "3.7.3"
  }
 },
 "nbformat": 4,
 "nbformat_minor": 2
}
